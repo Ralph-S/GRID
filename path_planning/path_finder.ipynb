{
 "cells": [
  {
   "cell_type": "code",
   "execution_count": 1,
   "metadata": {},
   "outputs": [],
   "source": [
    "import cv2\n",
    "import numpy as np\n",
    "from matplotlib import pyplot as plt\n",
    "import heapq\n",
    "from PIL import Image"
   ]
  },
  {
   "cell_type": "code",
   "execution_count": 2,
   "metadata": {},
   "outputs": [
    {
     "data": {
      "text/plain": [
       "(256, 256)"
      ]
     },
     "execution_count": 2,
     "metadata": {},
     "output_type": "execute_result"
    }
   ],
   "source": [
    "# Load the image\n",
    "image_path = r'C:\\Users\\Charbel\\Desktop\\MSD2\\Project\\Preds2\\3_pred.png'\n",
    "image = Image.open(image_path)\n",
    "\n",
    "# Convert the image to a numpy array\n",
    "edges = np.array(image)\n",
    "\n",
    "# Display the dimensions of the image to understand the layout\n",
    "edges.shape"
   ]
  },
  {
   "cell_type": "code",
   "execution_count": 3,
   "metadata": {},
   "outputs": [
    {
     "data": {
      "text/plain": [
       "'C:\\\\Users\\\\Charbel\\\\Desktop\\\\MSD2\\\\Project\\\\Preds2\\\\3_pred_test.png'"
      ]
     },
     "execution_count": 3,
     "metadata": {},
     "output_type": "execute_result"
    }
   ],
   "source": [
    "import heapq\n",
    "\n",
    "def heuristic(a, b):\n",
    "    \"\"\"Calculate the heuristic distance between two points (a and b).\"\"\"\n",
    "    return np.sqrt((b[0] - a[0]) ** 2 + (b[1] - a[1]) ** 2)\n",
    "\n",
    "def astar(array, start, end):\n",
    "    \"\"\"Perform the A* search algorithm on a 2D numpy array with given start and end points.\"\"\"\n",
    "    neighbors = [(0, 1), (1, 0), (-1, 0), (0, -1), (1, 1), (-1, 1), (1, -1), (-1, -1)] # 8-directional movement\n",
    "    close_set = set()\n",
    "    came_from = {}\n",
    "    gscore = {start: 0}\n",
    "    fscore = {start: heuristic(start, end)}\n",
    "    oheap = []\n",
    "\n",
    "    heapq.heappush(oheap, (fscore[start], start))\n",
    "    \n",
    "    while oheap:\n",
    "\n",
    "        current = heapq.heappop(oheap)[1]\n",
    "\n",
    "        if current == end:\n",
    "            data = []\n",
    "            while current in came_from:\n",
    "                data.append(current)\n",
    "                current = came_from[current]\n",
    "            return data\n",
    "\n",
    "        close_set.add(current)\n",
    "        for i, j in neighbors:\n",
    "            neighbor = current[0] + i, current[1] + j            \n",
    "            tentative_g_score = gscore[current] + heuristic(current, neighbor)\n",
    "            if 0 <= neighbor[0] < array.shape[0]:\n",
    "                if 0 <= neighbor[1] < array.shape[1]:                \n",
    "                    if array[neighbor[0]][neighbor[1]] == 0:\n",
    "                        continue\n",
    "                else:\n",
    "                    # array bound y walls\n",
    "                    continue\n",
    "            else:\n",
    "                # array bound x walls\n",
    "                continue\n",
    "                \n",
    "            if neighbor in close_set and tentative_g_score >= gscore.get(neighbor, 0):\n",
    "                continue\n",
    "                \n",
    "            if  tentative_g_score < gscore.get(neighbor, 0) or neighbor not in [i[1]for i in oheap]:\n",
    "                came_from[neighbor] = current\n",
    "                gscore[neighbor] = tentative_g_score\n",
    "                fscore[neighbor] = tentative_g_score + heuristic(neighbor, end)\n",
    "                heapq.heappush(oheap, (fscore[neighbor], neighbor))\n",
    "                \n",
    "    return False\n",
    "\n",
    "start_point = (30, edges.shape[0] - 2) # Starting position as defined\n",
    "end_point = (edges.shape[1] - 28, 62) # End position as defined\n",
    "\n",
    "path = astar(edges, start_point, end_point)\n",
    "\n",
    "# We need to create an RGB image from the edges array to draw the path in yellow (255, 255, 0).\n",
    "rgb_image = np.stack((edges,) * 3, axis=-1)\n",
    "\n",
    "# Convert 0 values to black and 1 values to white for the background\n",
    "road_mask = edges == 1\n",
    "non_road_mask = edges == 0\n",
    "rgb_image[road_mask] = [255, 255, 255]  # White for road\n",
    "rgb_image[non_road_mask] = [0, 0, 0]  # Black for non-road\n",
    "\n",
    "# If a path was found, draw it in yellow\n",
    "if path:\n",
    "    for position in path:\n",
    "        rgb_image[position[0], position[1]] = [255, 255, 0]  # Yellow for the path\n",
    "\n",
    "# Convert the numpy array back to an RGB image\n",
    "result_image_rgb = Image.fromarray(np.uint8(rgb_image))\n",
    "\n",
    "# Save and display the image path\n",
    "result_image_rgb_path = r'C:\\Users\\Charbel\\Desktop\\MSD2\\Project\\Preds2\\3_pred_test.png'\n",
    "result_image_rgb.save(result_image_rgb_path)\n",
    "# result_image_rgb.show()  # This will not display the image here\n",
    "\n",
    "result_image_rgb_path\n"
   ]
  }
 ],
 "metadata": {
  "kernelspec": {
   "display_name": "Python 3",
   "language": "python",
   "name": "python3"
  },
  "language_info": {
   "codemirror_mode": {
    "name": "ipython",
    "version": 3
   },
   "file_extension": ".py",
   "mimetype": "text/x-python",
   "name": "python",
   "nbconvert_exporter": "python",
   "pygments_lexer": "ipython3",
   "version": "3.12.3"
  }
 },
 "nbformat": 4,
 "nbformat_minor": 2
}
